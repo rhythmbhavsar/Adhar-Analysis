{
  "nbformat": 4,
  "nbformat_minor": 0,
  "metadata": {
    "colab": {
      "name": "Rhythm_Bhavsar_Pyspark1_assignment.ipynb",
      "provenance": []
    },
    "kernelspec": {
      "name": "python3",
      "display_name": "Python 3"
    },
    "language_info": {
      "name": "python"
    }
  },
  "cells": [
    {
      "cell_type": "code",
      "execution_count": 1,
      "metadata": {
        "colab": {
          "base_uri": "https://localhost:8080/"
        },
        "id": "tV3zvls7cz5W",
        "outputId": "be3eef7f-9bb8-491b-b1bc-2533815352ff"
      },
      "outputs": [
        {
          "output_type": "stream",
          "name": "stdout",
          "text": [
            "Requirement already satisfied: pyspark in /usr/local/lib/python3.7/dist-packages (3.2.1)\n",
            "Requirement already satisfied: py4j==0.10.9.3 in /usr/local/lib/python3.7/dist-packages (from pyspark) (0.10.9.3)\n"
          ]
        }
      ],
      "source": [
        "pip install pyspark"
      ]
    },
    {
      "cell_type": "code",
      "source": [
        "from pyspark.sql import SparkSession\n",
        "spark = SparkSession.builder.appName('Test').getOrCreate()"
      ],
      "metadata": {
        "id": "fY83tH94eBc8"
      },
      "execution_count": 9,
      "outputs": []
    },
    {
      "cell_type": "code",
      "source": [
        "# Reading the Dataframe from the csv file.\n",
        "df = spark.read.format(\"csv\").option(\"header\", \"true\").option(\"inferSchema\",\"true\").load(\"/content/UIDAI-ENR-DETAIL-20170308.csv\")  \n",
        "df.show()"
      ],
      "metadata": {
        "colab": {
          "base_uri": "https://localhost:8080/"
        },
        "id": "6rA0yL9Pd-J2",
        "outputId": "9b462a52-7c10-45a4-ffe7-432a7716a9b5"
      },
      "execution_count": 10,
      "outputs": [
        {
          "output_type": "stream",
          "name": "stdout",
          "text": [
            "+--------------------+--------------------+-------------+----------+------------+--------+------+---+-----------------+------------------+-------------------------+---------------------------------+\n",
            "|           Registrar|    Enrolment Agency|        State|  District|Sub District|Pin Code|Gender|Age|Aadhaar generated|Enrolment Rejected|Residents providing email|Residents providing mobile number|\n",
            "+--------------------+--------------------+-------------+----------+------------+--------+------+---+-----------------+------------------+-------------------------+---------------------------------+\n",
            "|      Allahabad Bank|A-Onerealtors Pvt...|Uttar Pradesh| Allahabad|        Meja|  212303|     F|  7|                1|                 0|                        0|                                1|\n",
            "|      Allahabad Bank|Asha Security Gua...|Uttar Pradesh| Sonbhadra| Robertsganj|  231213|     M|  8|                1|                 0|                        0|                                0|\n",
            "|      Allahabad Bank|   SGS INDIA PVT LTD|Uttar Pradesh| Sultanpur|   Sultanpur|  227812|     F| 13|                1|                 0|                        0|                                1|\n",
            "|      Allahabad Bank|Sri Ramraja Sarka...|Uttar Pradesh|    Shamli|      Shamli|  247775|     M|  6|                1|                 0|                        0|                                1|\n",
            "|      Allahabad Bank|  Transmoovers India|Uttar Pradesh| Gorakhpur|    Sahjanwa|  273001|     M|  8|                1|                 0|                        0|                                1|\n",
            "|      Allahabad Bank|  Transmoovers India|Uttar Pradesh|  Varanasi|      Pindra|  221101|     M| 14|                1|                 0|                        0|                                1|\n",
            "|      Allahabad Bank|  Transmoovers India|Uttar Pradesh|  Varanasi|    Varanasi|  221001|     M|  9|                1|                 0|                        0|                                1|\n",
            "|      Allahabad Bank|  Transmoovers India|Uttar Pradesh|  Varanasi|    Varanasi|  221002|     M|  4|                1|                 0|                        0|                                1|\n",
            "|      Allahabad Bank|  Transmoovers India|Uttar Pradesh|  Varanasi|    Varanasi|  221002|     M| 10|                0|                 1|                        0|                                1|\n",
            "|      Allahabad Bank|  Transmoovers India|Uttar Pradesh|  Varanasi|    Varanasi|  221002|     M| 19|                1|                 0|                        0|                                1|\n",
            "|      Allahabad Bank|Vedavaag Systems ...|Uttar Pradesh|Bara Banki|   Nawabganj|  225301|     M|  8|                1|                 0|                        0|                                0|\n",
            "|Atalji Janasnehi ...|Atalji Janasnehi ...|        Assam|  Marigaon|   Bhuragaon|  782121|     M| 22|                1|                 0|                        0|                                1|\n",
            "|Atalji Janasnehi ...|Atalji Janasnehi ...|        Bihar| Gopalganj|  Vijayeepur|  841508|     M| 26|                1|                 0|                        0|                                1|\n",
            "|Atalji Janasnehi ...|Atalji Janasnehi ...|    Karnataka|  Bagalkot|      Badami|  587114|     M| 27|                1|                 0|                        0|                                1|\n",
            "|Atalji Janasnehi ...|Atalji Janasnehi ...|    Karnataka|  Bagalkot|      Badami|  587155|     F|  2|                1|                 0|                        0|                                1|\n",
            "|Atalji Janasnehi ...|Atalji Janasnehi ...|    Karnataka|  Bagalkot|      Badami|  587155|     M| 67|                1|                 0|                        0|                                1|\n",
            "|Atalji Janasnehi ...|Atalji Janasnehi ...|    Karnataka|  Bagalkot|      Badami|  587201|     F| 32|                1|                 0|                        0|                                1|\n",
            "|Atalji Janasnehi ...|Atalji Janasnehi ...|    Karnataka|  Bagalkot|      Badami|  587203|     M| 27|                1|                 0|                        0|                                1|\n",
            "|Atalji Janasnehi ...|Atalji Janasnehi ...|    Karnataka|  Bagalkot|      Badami|  587206|     F| 40|                1|                 0|                        0|                                0|\n",
            "|Atalji Janasnehi ...|Atalji Janasnehi ...|    Karnataka|  Bagalkot|      Badami|  587206|     M| 28|                1|                 0|                        0|                                1|\n",
            "+--------------------+--------------------+-------------+----------+------------+--------+------+---+-----------------+------------------+-------------------------+---------------------------------+\n",
            "only showing top 20 rows\n",
            "\n"
          ]
        }
      ]
    },
    {
      "cell_type": "markdown",
      "source": [
        "## Create a dataframe with Total Aadhaar's generated for each state"
      ],
      "metadata": {
        "id": "W3HnmmM-TUIK"
      }
    },
    {
      "cell_type": "code",
      "source": [
        "#Making Dataframe with State and its total number of adhar card genrated.\n",
        "state = df.groupBy(\"State\").sum(\"Aadhaar generated\")\n",
        "state.show(60,truncate=False)"
      ],
      "metadata": {
        "colab": {
          "base_uri": "https://localhost:8080/"
        },
        "id": "dphRVcX6eUyl",
        "outputId": "d7391426-bc1d-4bcc-eafb-40e842e4046c"
      },
      "execution_count": 4,
      "outputs": [
        {
          "output_type": "stream",
          "name": "stdout",
          "text": [
            "+---------------------------+----------------------+\n",
            "|State                      |sum(Aadhaar generated)|\n",
            "+---------------------------+----------------------+\n",
            "|Nagaland                   |545                   |\n",
            "|Karnataka                  |19764                 |\n",
            "|Odisha                     |18182                 |\n",
            "|Kerala                     |15143                 |\n",
            "|Tamil Nadu                 |32485                 |\n",
            "|Chhattisgarh               |6604                  |\n",
            "|Andhra Pradesh             |5798                  |\n",
            "|Madhya Pradesh             |53276                 |\n",
            "|Punjab                     |6506                  |\n",
            "|Manipur                    |1323                  |\n",
            "|Goa                        |1167                  |\n",
            "|Mizoram                    |6279                  |\n",
            "|Dadra and Nagar Haveli     |140                   |\n",
            "|Himachal Pradesh           |1547                  |\n",
            "|Puducherry                 |83                    |\n",
            "|Haryana                    |6804                  |\n",
            "|Jammu and Kashmir          |1234                  |\n",
            "|Jharkhand                  |9868                  |\n",
            "|Arunachal Pradesh          |913                   |\n",
            "|Gujarat                    |34844                 |\n",
            "|Sikkim                     |50                    |\n",
            "|Delhi                      |8426                  |\n",
            "|Others                     |12                    |\n",
            "|Chandigarh                 |259                   |\n",
            "|Rajasthan                  |39570                 |\n",
            "|Andaman and Nicobar Islands|5                     |\n",
            "|Assam                      |3213                  |\n",
            "|Meghalaya                  |277                   |\n",
            "|Daman and Diu              |105                   |\n",
            "|Maharashtra                |26085                 |\n",
            "|Telangana                  |5018                  |\n",
            "|West Bengal                |119901                |\n",
            "|Bihar                      |162607                |\n",
            "|Tripura                    |908                   |\n",
            "|Uttar Pradesh              |103767                |\n",
            "|Uttarakhand                |13227                 |\n",
            "|Lakshadweep                |4                     |\n",
            "+---------------------------+----------------------+\n",
            "\n"
          ]
        }
      ]
    },
    {
      "cell_type": "markdown",
      "source": [
        "The upper given are the Total Aadhaar's generated for each state"
      ],
      "metadata": {
        "id": "2zvjynRUVZon"
      }
    },
    {
      "cell_type": "markdown",
      "source": [
        "## Create a dataframe with Total Aadhaar's generated by each enrollment agency "
      ],
      "metadata": {
        "id": "FX4rurmfTgeS"
      }
    },
    {
      "cell_type": "code",
      "source": [
        "#Making Dataframe with Enrolment Agency and its total number of adhar card genrated. \n",
        "enrollment_agency = df.groupBy(\"Enrolment Agency\").sum(\"Aadhaar generated\")\n",
        "enrollment_agency.show(enrollment_agency.count(),truncate=False)"
      ],
      "metadata": {
        "colab": {
          "base_uri": "https://localhost:8080/"
        },
        "id": "xtP7DrEFMIH-",
        "outputId": "264b448a-8adc-469e-88db-25ecd9ab4e9c"
      },
      "execution_count": 14,
      "outputs": [
        {
          "output_type": "stream",
          "name": "stdout",
          "text": [
            "+-----------------------------------------------------------------------+----------------------+\n",
            "|Enrolment Agency                                                       |sum(Aadhaar generated)|\n",
            "+-----------------------------------------------------------------------+----------------------+\n",
            "|Raj Construction Co.                                                   |532                   |\n",
            "|CO JOMLO MOBUK                                                         |8                     |\n",
            "|NPS Technologies Pvt. Ltd                                              |9692                  |\n",
            "|APOnline Limited                                                       |305                   |\n",
            "|Transmoovers India                                                     |5                     |\n",
            "|Zephyr System Pvt.Ltd.                                                 |6946                  |\n",
            "|ADC BOLENG                                                             |2                     |\n",
            "|Emdee Digitronics Pvt.Ltd.                                             |2078                  |\n",
            "|Netlink software Pvt Ltd                                               |4832                  |\n",
            "|DSO STAT NAMSAI                                                        |50                    |\n",
            "|Estex Telecom Pvt Ltd                                                  |1894                  |\n",
            "|Squaria Global India Private Limited                                   |1368                  |\n",
            "|EAC OFFICE KAYING/CO PAYUM                                             |21                    |\n",
            "|IAP COMPANY Pvt. Ltd                                                   |10644                 |\n",
            "|Prakash Computer Services                                              |2817                  |\n",
            "|CDPO Tezu ICDS                                                         |66                    |\n",
            "|APEX Services                                                          |109                   |\n",
            "|Synapses Solutions Private Limited                                     |2843                  |\n",
            "|Yashi Informatics LLP                                                  |5                     |\n",
            "|HyperSoft Technologies Ltd                                             |33                    |\n",
            "|Alankit Limited                                                        |3861                  |\n",
            "|Sanghavi Computer Centre Private Ltd                                   |48                    |\n",
            "|Conatus Infocom Pvt. Ltd                                               |477                   |\n",
            "|Twinstar Industries Ltd.                                               |4806                  |\n",
            "|OSWAL COMPUTERS & CONSULTANTS                                          |872                   |\n",
            "|City Hawks Manpower Services & Consultancy                             |635                   |\n",
            "|MARS Telecom Systems Pvt Ltd                                           |2                     |\n",
            "|Asray Gram                                                             |69                    |\n",
            "|SHRIKRISHNA KHANDASARI SUGAR M                                         |1                     |\n",
            "|Atalji Janasnehi Directorate  GOK                                      |1369                  |\n",
            "|Sri Ramraja Sarkar Lok Kalyan Trust                                    |2642                  |\n",
            "|Indotech Engineering Products                                          |2965                  |\n",
            "|India Computer Technology                                              |264                   |\n",
            "|CSC SPV                                                                |173192                |\n",
            "|M/S STAR DATA CENTRE                                                   |76                    |\n",
            "|S.J. Technologies                                                      |9                     |\n",
            "|Asha Security Guard Services                                           |768                   |\n",
            "|SPANCO                                                                 |0                     |\n",
            "|DFCSO  Tezu                                                            |16                    |\n",
            "|WEBEL TECHNOLOGY LIMITED                                               |1467                  |\n",
            "|DDSE Lohit                                                             |104                   |\n",
            "|Blue Circle Instrument                                                 |97                    |\n",
            "|KDS Services Private Limited                                           |1705                  |\n",
            "|Nevaeh Technology Pvt. Ltd.                                            |979                   |\n",
            "|Promind Solutions P Limited                                            |1779                  |\n",
            "|ATISHAY INFOTECH PVT. LTD.                                             |227                   |\n",
            "|Techno Bytes Information Pvt. Ltd                                      |3586                  |\n",
            "|Extra Assistant Commissioner Itanagar                                  |15                    |\n",
            "|IPS e Services Pvt Ltd                                                 |2218                  |\n",
            "|CMS Computers Ltd                                                      |13126                 |\n",
            "|SRR Infotech                                                           |804                   |\n",
            "|Bloom Solutions Pvt Ltd                                                |2072                  |\n",
            "|Munish Kumar Bansal Contractor                                         |515                   |\n",
            "|Abha Systems And Consultancy                                           |2898                  |\n",
            "|BASIX                                                                  |8079                  |\n",
            "|BNR UDYOG LIMITED                                                      |238                   |\n",
            "|MEGHA VINCOM PVT LTD                                                   |325                   |\n",
            "|Network for Information & Computer                                     |1849                  |\n",
            "|EAC LEKANG                                                             |40                    |\n",
            "|Circle Officer Toru                                                    |15                    |\n",
            "|Extra Assistant Commissioner Naharlagun                                |22                    |\n",
            "|Saket Advertising Pvt. Ltd                                             |1002                  |\n",
            "|Tera Software Ltd                                                      |179                   |\n",
            "|Frontech Systems Pvt Ltd                                               |216                   |\n",
            "|Ecartes Technology Pvt. Ltd                                            |1594                  |\n",
            "|Osiris Infotech Pvt. Ltd.                                              |816                   |\n",
            "|Virinchi Technologies Ltd                                              |711                   |\n",
            "|Vedavaag Systems Limited                                               |6232                  |\n",
            "|CSC e-Governance Services India Limited                                |2325                  |\n",
            "|DC office Aalo                                                         |249                   |\n",
            "|Ojus Healthcare Private Limited                                        |198                   |\n",
            "|Computer Print                                                         |240                   |\n",
            "|Nekton IT India Pvt Ltd.                                               |4837                  |\n",
            "|Super Printers                                                         |1725                  |\n",
            "|CIRCLE OFFICER PIYONG                                                  |103                   |\n",
            "|Lankipalli Integrated Services Private Limited                         |43                    |\n",
            "|A I Soc for Electronics and Comp Tech                                  |7041                  |\n",
            "|United Telecoms e-Services Pvt Ltd                                     |27                    |\n",
            "|AVVAS INFOTECH PVT  LTD                                                |2008                  |\n",
            "|Yash Ornaments Pvt. Ltd                                                |424                   |\n",
            "|DC Wokha                                                               |27                    |\n",
            "|Compro Systems & Services                                              |62                    |\n",
            "|DEVASHISH SECURITIES PVT. LTD.                                         |4                     |\n",
            "|SARADA SYSTEMS                                                         |1745                  |\n",
            "|Gujarat Infotech Ltd.                                                  |1677                  |\n",
            "|PROTEX COMPUTER PVT LTD                                                |2180                  |\n",
            "|Home Life Buildcon Pvt Ltd                                             |5313                  |\n",
            "|Advent Infomax Private Ltd                                             |183                   |\n",
            "|Digitcom Systems Pvt. Ltd.                                             |1378                  |\n",
            "|Agro Tech Engineers                                                    |1055                  |\n",
            "|SREI INFRASTRUCTURE FINANCES L                                         |26497                 |\n",
            "|CHIPS                                                                  |5711                  |\n",
            "|VISESH INFOTECNICS LIMITED                                             |252                   |\n",
            "|VEETECHNOLOGIES PVT. LTD                                               |9922                  |\n",
            "|Mahamritunjay Traders                                                  |2885                  |\n",
            "|77 Infosystems Pvt Ltd                                                 |99                    |\n",
            "|A-Onerealtors Pvt Ltd                                                  |2034                  |\n",
            "|Radiant Haroti Industries India Ltd                                    |1801                  |\n",
            "|JNET Technologies Pvt.Ltd                                              |69                    |\n",
            "|CHESSY CONSULTANTS PVT LTD                                             |133                   |\n",
            "|Mahaonline Limited                                                     |718                   |\n",
            "|Akhil Bhartiya Majdoor Shiksha Sewa Samiti                             |642                   |\n",
            "|MKS Enterprises                                                        |254                   |\n",
            "|NVR & ASSOCIATES LIMITED                                               |356                   |\n",
            "|M/s Gold Square Builders & Promoters Pvt. Ltd.                         |2697                  |\n",
            "|DATASOFT COMPUTER SERVICES(P)                                          |1672                  |\n",
            "|Utility Forms Pvt Ltd                                                  |3592                  |\n",
            "|Janta Silikon Consortium                                               |1194                  |\n",
            "|HI-TECH CONTROLS                                                       |394                   |\n",
            "|CALANCE SOFTWARE PRIVATE LTD                                           |408                   |\n",
            "|VISION COMPTECH INTEGRATOR LTD                                         |1501                  |\n",
            "|SGS INDIA PVT LTD                                                      |4121                  |\n",
            "|Karvy Data Management Services                                         |8086                  |\n",
            "|MANTRA SOFTTECH (INDIA) PVTLTD                                         |237                   |\n",
            "|Limra Global e Services Private Limited                                |290                   |\n",
            "|FINANCIAL INFORMATION NETWORK                                          |5626                  |\n",
            "|EAC FI DA CHONGKHAM                                                    |58                    |\n",
            "|Jeevan Deep Charitable Society                                         |211                   |\n",
            "|AS International                                                       |105                   |\n",
            "|Academy of Management Studies                                          |1002                  |\n",
            "|AKSH OPTIFIBRE LIMITED                                                 |16624                 |\n",
            "|Amar Constructions                                                     |5433                  |\n",
            "|Apnatech Consultancy Services Pvt Ltd                                  |342                   |\n",
            "|Binary Systems                                                         |141                   |\n",
            "|VIKALP MULTIMEDIA                                                      |1                     |\n",
            "|DC Serchhip                                                            |1067                  |\n",
            "|District Magistrate & Collector  NorthTripura District                 |50                    |\n",
            "|Quick Data IT Services Pvt Ltd                                         |1                     |\n",
            "|Directorate of Women & Child Department  Govt Of Goa                   |209                   |\n",
            "|WEBEL                                                                  |0                     |\n",
            "|Directorate of ESD                                                     |5514                  |\n",
            "|Omnitech Infosolutions Ltd                                             |2032                  |\n",
            "|District IT Society Fatehabad                                          |29                    |\n",
            "|Offshoot Agency Pvt. Ltd.                                              |91                    |\n",
            "|District Sukhmani Society Sangrur Punjab                               |5                     |\n",
            "|Corporate India Facilities Pvt Ltd                                     |140                   |\n",
            "|District IT Society Mewat                                              |134                   |\n",
            "|Sixth Dimension Project Solutions Ltd                                  |688                   |\n",
            "|Late Smt. Nirmala Singh Seva Samiti                                    |866                   |\n",
            "|e-Seva Society UID Dang                                                |182                   |\n",
            "|SETU MAHARASHTRA                                                       |9                     |\n",
            "|Om Softwares                                                           |272                   |\n",
            "|Integrated Systems & Services                                          |1                     |\n",
            "|District IT Society Palwal                                             |102                   |\n",
            "|eCentric solutions pvt ltd                                             |24                    |\n",
            "|Madras Security Printers Ltd                                           |1                     |\n",
            "|Wipro Ltd                                                              |39619                 |\n",
            "|Department of Economics Statistics  Monitoring and Evaluation DESME    |34                    |\n",
            "|M/s Sanish Choudhary                                                   |358                   |\n",
            "|District IT Society Gurgaon                                            |231                   |\n",
            "|Arya bandhu herbs and durgs private limited                            |9                     |\n",
            "|Care Educational & Welfare Society                                     |331                   |\n",
            "|Jamnagar MC                                                            |230                   |\n",
            "|Jilla E-Seva Society Sabarkantha                                       |1102                  |\n",
            "|Wedha Communication Pvt Ltd                                            |152                   |\n",
            "|DIT Lakshadweep                                                        |0                     |\n",
            "|District Magistrate & Collector  Khowai District                       |14                    |\n",
            "|Women and Child Development                                            |46                    |\n",
            "|Punjab State e- Governance Society                                     |24                    |\n",
            "|District IT Society Panipat                                            |188                   |\n",
            "|Computer LAB                                                           |21823                 |\n",
            "|District IT Society Panchkula                                          |78                    |\n",
            "|Director  Woman and Child Development  Govt. of Himachal Pradesh       |32                    |\n",
            "|District Sukhmani Society Bathinda Punjab                              |4                     |\n",
            "|Directorate of Public Health and Family Welfare  Govt of Andhra Pradesh|22                    |\n",
            "|In Media Computer Services LLP                                         |117                   |\n",
            "|M/s. Vidya Online  Pune                                                |113                   |\n",
            "|E-Seva Society Amreli                                                  |823                   |\n",
            "|Department of Information Technology and e-Gov  Government of Jharkhand|762                   |\n",
            "|District E-Seva Society Panchmahals Godhra                             |1126                  |\n",
            "|Deputy Commissioner Kolasib                                            |575                   |\n",
            "|TechSmart India Pvt Ltd                                                |2                     |\n",
            "|Junagadh MC                                                            |10                    |\n",
            "|Municipal Corporation Gandhinagar                                      |26                    |\n",
            "|District IT Society Rohtak                                             |145                   |\n",
            "|District Sukhmani Society Amritsar Punjab                              |0                     |\n",
            "|Yuvaan Infotech                                                        |737                   |\n",
            "|DC Siaha                                                               |612                   |\n",
            "|Jilla E-Seva Society Vadodara                                          |43                    |\n",
            "|District IT Society Mahendragarh                                       |145                   |\n",
            "|District Magistrate & Collector  Unakoti  District                     |59                    |\n",
            "|District Sukhmani Society Tarn Taran Punjab                            |2                     |\n",
            "|District Sukhmani Society Fatehgarh Sahib Punjab                       |35                    |\n",
            "|E-Seva Society Bhavnagar                                               |1136                  |\n",
            "|UNITED DATA SERVICES PRIVATE LIMITED                                   |0                     |\n",
            "|Rajkot Municipal Corporation                                           |126                   |\n",
            "|District IT Society Bhiwani                                            |106                   |\n",
            "|Vayam technologies Ltd                                                 |480                   |\n",
            "|Abhipra Capital Ltd                                                    |79                    |\n",
            "|Ojus G Enterprises                                                     |88                    |\n",
            "|Department of IT  Chandigarh                                           |94                    |\n",
            "|Business Information Processing Services                               |34                    |\n",
            "|E-Seva Society Surendranagar                                           |712                   |\n",
            "|Chinar Construction Company Prime agency                               |3                     |\n",
            "|Jilla E-seva Sadan  Dahod                                              |1336                  |\n",
            "|District IT Society Kaithal                                            |71                    |\n",
            "|DC Lunglei                                                             |1186                  |\n",
            "|E Seva Society UID Kheda Nadiad                                        |1103                  |\n",
            "|Viesa Technologies                                                     |6                     |\n",
            "|E-Seva Society Arvalli                                                 |640                   |\n",
            "|Urmila Info solution                                                   |180                   |\n",
            "|District IT Society Sonipat                                            |101                   |\n",
            "|District Sukhmani Society Fazilka Punjab                               |7                     |\n",
            "|Bhartiya Manav Kalyan Parishad                                         |11                    |\n",
            "|Pariza Enterprises                                                     |3                     |\n",
            "|Aayam Enterprises                                                      |91                    |\n",
            "|RBS multisolutions private limited                                     |1949                  |\n",
            "|District E-Seva Society Gandhinagar                                    |741                   |\n",
            "|Vakrangee Softwares Limited                                            |4055                  |\n",
            "|District Magistrate & Collector  West Tripura District                 |170                   |\n",
            "|Seva Society Collector Kutch                                           |1681                  |\n",
            "|LYRA  CONSULTANCY SERVICE                                              |3685                  |\n",
            "|M2C Private Solution                                                   |61                    |\n",
            "|Pho-com-net Pvt. Ltd.                                                  |15                    |\n",
            "|State Health Society                                                   |237                   |\n",
            "|Transline Technologies P Ltd                                           |129                   |\n",
            "|Jilla e-SEVA Society Devbhoomi Dwarka                                  |64                    |\n",
            "|Layman Education Society                                               |527                   |\n",
            "|SoftAge Information Technology Limited                                 |185                   |\n",
            "|Orion Security Solutions Private Ltd                                   |292                   |\n",
            "|National Cooperative Consumers Federation of India Limited             |3062                  |\n",
            "|VAP INFOSOLUTIONS                                                      |479                   |\n",
            "|SNR Edatas Pvt Ltd                                                     |17                    |\n",
            "|UT of Daman and Diu                                                    |53                    |\n",
            "|Steel City Securities Limited                                          |841                   |\n",
            "|Jilla E-Seva Society Valsad                                            |821                   |\n",
            "|E-Seva Society UID Patan                                               |283                   |\n",
            "|Excel Technovation Pvt. Ltd                                            |3                     |\n",
            "|District IT Society Faridabad                                          |168                   |\n",
            "|District Magistrate & Collector  South Tripura                         |42                    |\n",
            "|E-Seva Society Junagadh                                                |435                   |\n",
            "|Nielsen  India  Private Limited                                        |15993                 |\n",
            "|Karvy Computershare Private Li                                         |36                    |\n",
            "|District Health and Family Welfare Society Fatehabad                   |0                     |\n",
            "|District IT Society Hisar                                              |132                   |\n",
            "|District IT Society Karnal                                             |168                   |\n",
            "|District IT Society Sirsa                                              |235                   |\n",
            "|District Family and Welfare Society  Jhajjar                           |0                     |\n",
            "|SVG Express Services Pvt Ltd                                           |245                   |\n",
            "|Deputy Commissioner  Aizawl                                            |935                   |\n",
            "|E-Seva Society Narmada Rajpipla                                        |15                    |\n",
            "|Shubh Enterprises                                                      |445                   |\n",
            "|M/S King Computer System pvt Ltd                                       |93                    |\n",
            "|DC Mamit                                                               |674                   |\n",
            "|KRISHNAURAM SHIKSHA EVAM JAN KALYAN SAMITI                             |626                   |\n",
            "|Sant Naval Institute of Information Technology                         |58                    |\n",
            "|E-Seva Society Porbandar                                               |2                     |\n",
            "|District IT Society Jind                                               |1                     |\n",
            "|Centre for e-Governance  GOK                                           |7027                  |\n",
            "|UIDAI-EA                                                               |18                    |\n",
            "|VIRGO SOFTECH LIMITED                                                  |718                   |\n",
            "|UMC Technologies Pvt. Ltd                                              |31                    |\n",
            "|Akshaya                                                                |14562                 |\n",
            "|Matrix Processing House                                                |2075                  |\n",
            "|SREEVEN INFOCOM LIMITED                                                |37                    |\n",
            "|Ricoh India Limited                                                    |2                     |\n",
            "|District Sukhmani Society For Citizen Services Mansa Punjab            |18                    |\n",
            "|Multiwave Innovation                                                   |9                     |\n",
            "|E-Seva Society Collector Office Tapi Vyara                             |295                   |\n",
            "|Silver Touch Technologies Ltd                                          |91                    |\n",
            "|Alankit Finsec Ltd                                                     |1                     |\n",
            "|M/s. Goa Electronics Ltd                                               |976                   |\n",
            "|SRM Education And Social Welfare Society                               |26253                 |\n",
            "|District E-Seva Society Surat                                          |240                   |\n",
            "|District IT Society Rewari                                             |134                   |\n",
            "|Organisation for Development Integrated Social & Health Action  ODISHA |203                   |\n",
            "|SAR Technology                                                         |102                   |\n",
            "|District E-Seva Society Mehsana                                        |73                    |\n",
            "|Bhaswa Computer Science Pvt. Ltd.                                      |206                   |\n",
            "|District IT Society Kurukshetra                                        |51                    |\n",
            "|Dist E-seva Society Anand                                              |872                   |\n",
            "|Department of IT  Govt. of HP                                          |853                   |\n",
            "|N.K. Sharma Enterprises Ltd.                                           |1881                  |\n",
            "|Rural Environment & Water Assets Reproductive Development Society      |11                    |\n",
            "|District IT Society Jhajjar                                            |43                    |\n",
            "|Surat Municipal Corporation                                            |90                    |\n",
            "|MPOnline Limited                                                       |17020                 |\n",
            "|e-Seva Society  Chhotaudepur                                           |447                   |\n",
            "|Smart Chip Limited                                                     |16                    |\n",
            "|District IT Society Ambala                                             |72                    |\n",
            "|COMTECHINFO SOLUTIONS PVT.LTD                                          |591                   |\n",
            "|Make India Smart Private Limited                                       |3951                  |\n",
            "|Jilla E-Seva Society Rajkot                                            |617                   |\n",
            "|UID e-Seva Society Ahmedabad                                           |920                   |\n",
            "|D.C. Champhai                                                          |561                   |\n",
            "|District IT Society Yamuna Nagar                                       |89                    |\n",
            "|EDCS GOK                                                               |845                   |\n",
            "|M/s Smit Advertisers Pvt. Ltd.                                         |27                    |\n",
            "|M/s TAVASYA VENTURE PARTNERS PVT. LTD.                                 |687                   |\n",
            "|BNK Capital Markets Limited                                            |4138                  |\n",
            "|UT Computers Educational & Welfare Soc                                 |200                   |\n",
            "|Manipur Electronics Dev Corp                                           |3                     |\n",
            "|AISECT Limited                                                         |6505                  |\n",
            "|District Magistrate & Collector  Gomati District                       |176                   |\n",
            "|E-Seva Society Jamnagar                                                |626                   |\n",
            "|Mahanagar Seva Sadan Vadodara                                          |156                   |\n",
            "|COMTECH INSTITUTE OFTECHNOLOGY                                         |136                   |\n",
            "|Jilla e-SEVA society Gir Somnath                                       |144                   |\n",
            "|RELIGARE SECURITIES LTD                                                |2917                  |\n",
            "|District Magistrate &  Collector  Dhalai District                      |48                    |\n",
            "|Rajcomp Info Services Ltd                                              |20163                 |\n",
            "|District e-Seva Society Botad                                          |286                   |\n",
            "|TAMILNADU ARASU CABLE TV CORPORATION LTD                               |15981                 |\n",
            "|SRM Techsol Pvt. Ltd.                                                  |119                   |\n",
            "|Electronics Corporation of Tamil Nadu Limited                          |3979                  |\n",
            "|District E-Seva Society Navsari                                        |1147                  |\n",
            "|Mahisagar Lunawala                                                     |22                    |\n",
            "|Dist. E-seva Society Morbi                                             |731                   |\n",
            "|Jilla E-seva Society Banaskantha                                       |1409                  |\n",
            "|SILVER JUBILEE MOTORS LTD.                                             |72                    |\n",
            "|Administration of DNH                                                  |64                    |\n",
            "|Municipal Corporation Ahmedabad                                        |666                   |\n",
            "|Deputy Commissioner  Lawngtlai                                         |714                   |\n",
            "|Planning and Research Department                                       |1                     |\n",
            "|E-Seva Society UID Bharuch                                             |1293                  |\n",
            "|Eagle Software India Pvt. Ltd                                          |1211                  |\n",
            "|MACRO INFOTECH PVT LTD                                                 |8                     |\n",
            "|Clairvoyance Technologies Pvt.                                         |9                     |\n",
            "|Sarvalabh Global Foundation                                            |3089                  |\n",
            "|United Telecoms Ltd                                                    |1383                  |\n",
            "|Patel Computer Education                                               |32                    |\n",
            "|District Sukhmani Society  Ludhiana  Punjab                            |19                    |\n",
            "|District Magistrate & Collector Sepahijala District                    |234                   |\n",
            "|BHAVANAGAR MC                                                          |67                    |\n",
            "|District Family & Welfare Society Palwal                               |0                     |\n",
            "+-----------------------------------------------------------------------+----------------------+\n",
            "\n",
            "325\n"
          ]
        }
      ]
    },
    {
      "cell_type": "markdown",
      "source": [
        "The Upepr given are the Total Aadhaar's generated by each enrollment agency"
      ],
      "metadata": {
        "id": "9EVaKQC4Vx2n"
      }
    },
    {
      "cell_type": "markdown",
      "source": [
        "## Create dataframe with top 10 districts with maximum Aadhaar's generated for both Male and Female?\n"
      ],
      "metadata": {
        "id": "rbCkMSF1To_q"
      }
    },
    {
      "cell_type": "code",
      "source": [
        "#Making Dataframe with District and its total number of adhar card genrated.\n",
        "top_adhar = df.groupBy(\"District\").sum(\"Aadhaar generated\")\n",
        "# Sorting the total number of Adhar generated in the Descending form.\n",
        "top_adhar = top_adhar.orderBy(['sum(Aadhaar generated)'], ascending = [False])\n",
        "top_adhar.show(10,truncate=False)"
      ],
      "metadata": {
        "colab": {
          "base_uri": "https://localhost:8080/"
        },
        "id": "XPz_OddrNxYj",
        "outputId": "838c6de9-7e7d-4493-90c4-21a5b38d64cf"
      },
      "execution_count": 6,
      "outputs": [
        {
          "output_type": "stream",
          "name": "stdout",
          "text": [
            "+-----------------+----------------------+\n",
            "|District         |sum(Aadhaar generated)|\n",
            "+-----------------+----------------------+\n",
            "|South 24 Parganas|16207                 |\n",
            "|Barddhaman       |15821                 |\n",
            "|Bhagalpur        |14479                 |\n",
            "|North 24 Parganas|11273                 |\n",
            "|Gaya             |10755                 |\n",
            "|Katihar          |9479                  |\n",
            "|Patna            |8945                  |\n",
            "|Murshidabad      |8656                  |\n",
            "|Samastipur       |8230                  |\n",
            "|Nadia            |8162                  |\n",
            "+-----------------+----------------------+\n",
            "only showing top 10 rows\n",
            "\n"
          ]
        }
      ]
    },
    {
      "cell_type": "markdown",
      "source": [
        "Here, we had consdered that Dataframe is asked for the total number of Adhar genereted for males and females.\n",
        "\n",
        "So, the upper given are the top 10 districts with maximum Aadhaar's generated for both Male and Female. "
      ],
      "metadata": {
        "id": "jpB4chlEXA8H"
      }
    },
    {
      "cell_type": "markdown",
      "source": [
        "## Create a dataframe with Total Aadhaar's generated for top 10 least state"
      ],
      "metadata": {
        "id": "a_H3YuksTuYa"
      }
    },
    {
      "cell_type": "code",
      "source": [
        "\n",
        "#Making Dataframe with State and its total number of adhar card genrated.\n",
        "least_adhar = df.groupBy(\"State\").sum(\"Aadhaar generated\")\n",
        "# Sorting the total number of Adhar generated in the Ascending form.\n",
        "least_adhar = least_adhar.orderBy(['sum(Aadhaar generated)'], ascending = [True])\n",
        "least_adhar.show(10,truncate=False)"
      ],
      "metadata": {
        "colab": {
          "base_uri": "https://localhost:8080/"
        },
        "id": "ozwCM6PrPNUz",
        "outputId": "8e863377-6a31-439b-e53a-2c463c7fb109"
      },
      "execution_count": 7,
      "outputs": [
        {
          "output_type": "stream",
          "name": "stdout",
          "text": [
            "+---------------------------+----------------------+\n",
            "|State                      |sum(Aadhaar generated)|\n",
            "+---------------------------+----------------------+\n",
            "|Lakshadweep                |4                     |\n",
            "|Andaman and Nicobar Islands|5                     |\n",
            "|Others                     |12                    |\n",
            "|Sikkim                     |50                    |\n",
            "|Puducherry                 |83                    |\n",
            "|Daman and Diu              |105                   |\n",
            "|Dadra and Nagar Haveli     |140                   |\n",
            "|Chandigarh                 |259                   |\n",
            "|Meghalaya                  |277                   |\n",
            "|Nagaland                   |545                   |\n",
            "+---------------------------+----------------------+\n",
            "only showing top 10 rows\n",
            "\n"
          ]
        }
      ]
    },
    {
      "cell_type": "markdown",
      "source": [
        "The upper given are the Total Aadhaar's generated for top 10 least state.\n",
        "\n",
        "Here as we can see Adha  is generated least for the **Lakshadweep** state with the total number of **4**"
      ],
      "metadata": {
        "id": "bNVriTJyXnsN"
      }
    },
    {
      "cell_type": "markdown",
      "source": [
        "## For which age most adhar card has declined ?"
      ],
      "metadata": {
        "id": "0asirfKXTxyJ"
      }
    },
    {
      "cell_type": "code",
      "source": [
        "#Making Dataframe with Age and its total number of Enrolment Rejected.\n",
        "least_adhar = df.groupBy(\"Age\").sum(\"Enrolment Rejected\")\n",
        "# Sorting the total number of Adhar generated in the Descending form.\n",
        "least_adhar = least_adhar.orderBy(['sum(Enrolment Rejected)'], ascending = [False])\n",
        "# Displaying top 5 Age group.\n",
        "least_adhar.show(5,truncate=False)"
      ],
      "metadata": {
        "colab": {
          "base_uri": "https://localhost:8080/"
        },
        "id": "f60a-IDJRSu3",
        "outputId": "b3649bcb-7835-4810-ad2f-c637d6b312ec"
      },
      "execution_count": 8,
      "outputs": [
        {
          "output_type": "stream",
          "name": "stdout",
          "text": [
            "+---+-----------------------+\n",
            "|Age|sum(Enrolment Rejected)|\n",
            "+---+-----------------------+\n",
            "|4  |5673                   |\n",
            "|3  |3842                   |\n",
            "|2  |3372                   |\n",
            "|1  |3333                   |\n",
            "|0  |3219                   |\n",
            "+---+-----------------------+\n",
            "only showing top 5 rows\n",
            "\n"
          ]
        }
      ]
    },
    {
      "cell_type": "markdown",
      "source": [
        "As a result we can say that at the age of **4** most adhar card has declined."
      ],
      "metadata": {
        "id": "vyjkEmHLYR4t"
      }
    }
  ]
}
